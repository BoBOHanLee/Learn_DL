{
 "cells": [
  {
   "cell_type": "code",
   "execution_count": 2,
   "metadata": {},
   "outputs": [
    {
     "name": "stderr",
     "output_type": "stream",
     "text": [
      "Using TensorFlow backend.\n"
     ]
    }
   ],
   "source": [
    "from keras.models import Sequential\n",
    "from keras.layers import Dense, Activation, Dropout, Flatten\n",
    "from keras.layers import Conv2D\n",
    "from keras.layers import MaxPooling2D"
   ]
  },
  {
   "cell_type": "code",
   "execution_count": 3,
   "metadata": {},
   "outputs": [],
   "source": [
    "input_shape = (224, 224, 3)"
   ]
  },
  {
   "cell_type": "code",
   "execution_count": 4,
   "metadata": {},
   "outputs": [],
   "source": [
    "#VGG16的內部結構\n",
    "model_16 = Sequential([\n",
    "    Conv2D(64, (3, 3), input_shape=input_shape, padding='same',\n",
    "           activation='relu'),\n",
    "    Conv2D(64, (3, 3), activation='relu', padding='same'),\n",
    "    MaxPooling2D(pool_size=(2, 2), strides=(2, 2)),\n",
    "    Conv2D(128, (3, 3), activation='relu', padding='same'),\n",
    "    Conv2D(128, (3, 3), activation='relu', padding='same',),\n",
    "    MaxPooling2D(pool_size=(2, 2), strides=(2, 2)),\n",
    "    Conv2D(256, (3, 3), activation='relu', padding='same',),\n",
    "    Conv2D(256, (3, 3), activation='relu', padding='same',),\n",
    "    Conv2D(256, (3, 3), activation='relu', padding='same',),\n",
    "    MaxPooling2D(pool_size=(2, 2), strides=(2, 2)),\n",
    "    Conv2D(512, (3, 3), activation='relu', padding='same',),\n",
    "    Conv2D(512, (3, 3), activation='relu', padding='same',),\n",
    "    Conv2D(512, (3, 3), activation='relu', padding='same',),\n",
    "    MaxPooling2D(pool_size=(2, 2), strides=(2, 2)),\n",
    "    Conv2D(512, (3, 3), activation='relu', padding='same',),\n",
    "    Conv2D(512, (3, 3), activation='relu', padding='same',),\n",
    "    Conv2D(512, (3, 3), activation='relu', padding='same',),\n",
    "    MaxPooling2D(pool_size=(2, 2), strides=(2, 2)),\n",
    "    Flatten(),\n",
    "    Dense(4096, activation='relu'),\n",
    "    Dense(4096, activation='relu'),\n",
    "    Dense(1000, activation='softmax')\n",
    "])"
   ]
  },
  {
   "cell_type": "code",
   "execution_count": 5,
   "metadata": {},
   "outputs": [],
   "source": [
    "#VGG19的內部結構\n",
    "model_19 = Sequential([\n",
    "    Conv2D(64, (3, 3), input_shape=input_shape, padding='same',\n",
    "           activation='relu'),\n",
    "    Conv2D(64, (3, 3), activation='relu', padding='same'),\n",
    "    MaxPooling2D(pool_size=(2, 2), strides=(2, 2)),\n",
    "    Conv2D(128, (3, 3), activation='relu', padding='same'),\n",
    "    Conv2D(128, (3, 3), activation='relu', padding='same',),\n",
    "    MaxPooling2D(pool_size=(2, 2), strides=(2, 2)),\n",
    "    Conv2D(256, (3, 3), activation='relu', padding='same',),\n",
    "    Conv2D(256, (3, 3), activation='relu', padding='same',),\n",
    "    Conv2D(256, (3, 3), activation='relu', padding='same',),\n",
    "    Conv2D(256, (3, 3), activation='relu', padding='same',),\n",
    "    MaxPooling2D(pool_size=(2, 2), strides=(2, 2)),\n",
    "    Conv2D(512, (3, 3), activation='relu', padding='same',),\n",
    "    Conv2D(512, (3, 3), activation='relu', padding='same',),\n",
    "    Conv2D(512, (3, 3), activation='relu', padding='same',),\n",
    "    Conv2D(512, (3, 3), activation='relu', padding='same',),\n",
    "    MaxPooling2D(pool_size=(2, 2), strides=(2, 2)),\n",
    "    Conv2D(512, (3, 3), activation='relu', padding='same',),\n",
    "    Conv2D(512, (3, 3), activation='relu', padding='same',),\n",
    "    Conv2D(512, (3, 3), activation='relu', padding='same',),\n",
    "    Conv2D(512, (3, 3), activation='relu', padding='same',),\n",
    "    MaxPooling2D(pool_size=(2, 2), strides=(2, 2)),\n",
    "    Flatten(),\n",
    "    Dense(4096, activation='relu'),\n",
    "    Dense(4096, activation='relu'),\n",
    "    Dense(1000, activation='softmax')\n",
    "])"
   ]
  },
  {
   "cell_type": "markdown",
   "metadata": {},
   "source": [
    "## VGG16實作"
   ]
  },
  {
   "cell_type": "code",
   "execution_count": 6,
   "metadata": {},
   "outputs": [],
   "source": [
    "from keras.applications.vgg16 import VGG16\n",
    "from keras.preprocessing import image\n",
    "from keras.applications.vgg16 import preprocess_input, decode_predictions\n",
    "import numpy as np\n"
   ]
  },
  {
   "cell_type": "code",
   "execution_count": 7,
   "metadata": {},
   "outputs": [],
   "source": [
    "# include_top=True，表示會載入完整的 VGG16 模型，包括加在最後3層的卷積層\n",
    "# include_top=False，表示會載入 VGG16 的模型，不包括加在最後3層的卷積層，通常是取得 Features\n",
    "# 若下載失敗，請先刪除 c:\\<使用者>\\.keras\\models\\vgg16_weights_tf_dim_ordering_tf_kernels.h5\n",
    "model = VGG16(weights='imagenet', include_top=True) \n"
   ]
  },
  {
   "cell_type": "code",
   "execution_count": 14,
   "metadata": {},
   "outputs": [
    {
     "name": "stdout",
     "output_type": "stream",
     "text": [
      "(1, 224, 224, 3)\n"
     ]
    }
   ],
   "source": [
    "# Input：要辨識的影像\n",
    "img_path = 'tiger.jpg'\n",
    "img = image.load_img(img_path, target_size=(224, 224))\n",
    "x = image.img_to_array(img)\n",
    "x = np.expand_dims(x, axis=0)\n",
    "print(np.shape(x))\n",
    "x = preprocess_input(x)"
   ]
  },
  {
   "cell_type": "code",
   "execution_count": 17,
   "metadata": {},
   "outputs": [
    {
     "data": {
      "text/plain": [
       "array([[[[-264.558  , -270.337  , -257.299  ],\n",
       "         [-268.558  , -274.337  , -261.299  ],\n",
       "         [-274.558  , -280.337  , -267.299  ],\n",
       "         ...,\n",
       "         [-207.55801, -212.337  , -185.29901],\n",
       "         [-207.55801, -212.337  , -185.29901],\n",
       "         [-207.55801, -212.337  , -185.29901]],\n",
       "\n",
       "        [[-264.558  , -270.337  , -257.299  ],\n",
       "         [-268.558  , -274.337  , -261.299  ],\n",
       "         [-274.558  , -280.337  , -267.299  ],\n",
       "         ...,\n",
       "         [-200.55801, -205.337  , -178.29901],\n",
       "         [-200.55801, -205.337  , -178.29901],\n",
       "         [-200.55801, -205.337  , -178.29901]],\n",
       "\n",
       "        [[-265.558  , -271.337  , -258.299  ],\n",
       "         [-268.558  , -274.337  , -261.299  ],\n",
       "         [-274.558  , -280.337  , -267.299  ],\n",
       "         ...,\n",
       "         [-194.55801, -199.337  , -172.29901],\n",
       "         [-194.55801, -199.337  , -172.29901],\n",
       "         [-194.55801, -199.337  , -172.29901]],\n",
       "\n",
       "        ...,\n",
       "\n",
       "        [[-283.558  , -295.337  , -276.299  ],\n",
       "         [-186.55801, -198.337  , -179.29901],\n",
       "         [-175.55801, -187.337  , -168.29901],\n",
       "         ...,\n",
       "         [-207.55801, -209.337  , -184.29901],\n",
       "         [-229.55801, -231.337  , -206.29901],\n",
       "         [-238.55801, -240.337  , -215.29901]],\n",
       "\n",
       "        [[-150.55801, -162.337  , -143.29901],\n",
       "         [-147.55801, -159.337  , -140.29901],\n",
       "         [-182.55801, -194.337  , -175.29901],\n",
       "         ...,\n",
       "         [-233.55801, -232.337  , -208.29901],\n",
       "         [-260.558  , -259.337  , -235.29901],\n",
       "         [-252.55801, -251.337  , -227.29901]],\n",
       "\n",
       "        [[-192.55801, -204.337  , -185.29901],\n",
       "         [-138.55801, -150.337  , -131.29901],\n",
       "         [-161.55801, -173.337  , -154.29901],\n",
       "         ...,\n",
       "         [-234.55801, -231.337  , -207.29901],\n",
       "         [-264.558  , -261.337  , -237.29901],\n",
       "         [-246.55801, -243.337  , -219.29901]]]], dtype=float32)"
      ]
     },
     "execution_count": 17,
     "metadata": {},
     "output_type": "execute_result"
    }
   ],
   "source": [
    "x = preprocess_input(x)   #將原本的數據減去rgb的平均值\n",
    "x\n",
    "#print(np.shape(x))"
   ]
  },
  {
   "cell_type": "code",
   "execution_count": 18,
   "metadata": {},
   "outputs": [
    {
     "name": "stdout",
     "output_type": "stream",
     "text": [
      "Downloading data from https://s3.amazonaws.com/deep-learning-models/image-models/imagenet_class_index.json\n",
      "40960/35363 [==================================] - 0s 5us/step\n",
      "Predicted: [('n02129604', 'tiger', 0.96366274), ('n02123159', 'tiger_cat', 0.036337152), ('n02128925', 'jaguar', 7.074907e-08)]\n"
     ]
    }
   ],
   "source": [
    "# 預測，取得features，維度為 (1,7,7,512)\n",
    "features = model.predict(x)\n",
    "# 取得前三個最可能的類別及機率\n",
    "print('Predicted:', decode_predictions(features, top=3)[0])"
   ]
  },
  {
   "cell_type": "code",
   "execution_count": null,
   "metadata": {},
   "outputs": [],
   "source": []
  }
 ],
 "metadata": {
  "kernelspec": {
   "display_name": "Python (new-tensorflow-gpu)",
   "language": "python",
   "name": "tensorflow-gpu"
  },
  "language_info": {
   "codemirror_mode": {
    "name": "ipython",
    "version": 3
   },
   "file_extension": ".py",
   "mimetype": "text/x-python",
   "name": "python",
   "nbconvert_exporter": "python",
   "pygments_lexer": "ipython3",
   "version": "3.6.8"
  }
 },
 "nbformat": 4,
 "nbformat_minor": 2
}
